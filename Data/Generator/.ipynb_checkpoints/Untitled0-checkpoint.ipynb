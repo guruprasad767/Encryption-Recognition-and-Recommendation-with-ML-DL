{
  "nbformat": 4,
  "nbformat_minor": 0,
  "metadata": {
    "colab": {
      "provenance": []
    },
    "kernelspec": {
      "name": "python3",
      "display_name": "Python 3"
    },
    "language_info": {
      "name": "python"
    }
  },
  "cells": [
    {
      "cell_type": "code",
      "execution_count": null,
      "metadata": {
        "id": "OlCEdLnnXoSP"
      },
      "outputs": [],
      "source": [
        "MAX_LIMIT = 200\n",
        "\n",
        "short_texts = []  # 1-2 words\n",
        "medium_short_texts = []  # 5-7 words\n",
        "medium_texts = []  # 10-15 words\n",
        "long_texts = []  # 20+ words"
      ]
    },
    {
      "cell_type": "code",
      "source": [
        "def classify_and_append(line):\n",
        "    global short_texts, medium_short_texts, medium_texts, long_texts\n",
        "\n",
        "    word_count = len(line.split())\n",
        "\n",
        "    # Skip standalone punctuation or invalid fragments\n",
        "    if not re.search(r'\\w', sentence):\n",
        "        return\n",
        "\n",
        "\n",
        "    # Classify based on word count\n",
        "    if 1 <= word_count <= 2:\n",
        "        if sentence not in short_texts and len(short_texts) < MAX_LIMIT:\n",
        "            short_texts.append(sentence)\n",
        "    elif 5 <= word_count <= 7:\n",
        "        if sentence not in medium_short_texts and len(medium_short_texts) < MAX_LIMIT:\n",
        "            medium_short_texts.append(sentence)\n",
        "    elif 10 <= word_count <= 15:\n",
        "        if sentence not in medium_texts and len(medium_texts) < MAX_LIMIT:\n",
        "            medium_texts.append(sentence)\n",
        "    elif word_count >= 20:\n",
        "        if sentence not in long_texts and len(long_texts) < MAX_LIMIT:\n",
        "            long_texts.append(sentence)"
      ],
      "metadata": {
        "id": "0zAgwWVoZX0F"
      },
      "execution_count": null,
      "outputs": []
    },
    {
      "cell_type": "code",
      "source": [
        "#Option 1 (Paste para in varaible as a single line)\n",
        "#paragraph =\"To Kill a Mockingbird is a novel by the American author Harper Lee. It was published in July 1960 and became instantly successful. In the United States, it is widely read in high schools and middle schools. To Kill a Mockingbird won the Pulitzer Prize a year after its release, and it has become a classic of modern American literature. The plot and characters are loosely based on Lee's observations of her family, her neighbors and an event that occurred near her hometown of Monroeville, Alabama, in 1936, when she was ten. Despite dealing with the serious issues of rape and racial inequality, the novel is renowned for its warmth and humor. Atticus Finch, the narrator's father, has served as a moral hero for many readers and as a model of integrity for lawyers. The historian Joseph Crespino explains, In the twentieth century, To Kill a Mockingbird is probably the most widely read book dealing with race in America, and its main character, Atticus Finch, the most enduring fictional image of racial heroism. As a Southern Gothic novel and Bildungsroman, the primary themes of To Kill a Mockingbird involve racial injustice and the destruction of innocence. Scholars have noted that Lee also addresses issues of class, courage, compassion, and gender roles in the Deep South. Lessons from the book emphasize tolerance and decry prejudice. Despite its themes, To Kill a Mockingbird has been subject to campaigns for removal from public classrooms, often challenged for its use of racial epithets. In 2006, British librarians ranked the book ahead of the Bible as one every adult should read before they die. Reaction to the novel varied widely upon publication. Despite the number of copies sold and its widespread use in education, literary analysis of it is sparse. Author Mary McDonough Murphy, who collected individual impressions of To Kill a Mockingbird by several authors and public figures, calls the book an astonishing phenomenon. It was adapted into an Academy Award-winning film in 1962 by director Robert Mulligan, with a screenplay by Horton Foote. Since 1990, a play based on the novel has been performed annually in Harper Lee's hometown. To Kill a Mockingbird was Lee's only published book until Go Set a Watchman, an earlier draft of To Kill a Mockingbird, was published on July 14, 2015. Lee continued to respond to her work's impact until her death in February 2016. She was very guarded about her personal life, and gave her last interview to a journalist in 1964. Biographical background and publication Born in 1926, Harper Lee grew up in the Southern town of Monroeville, Alabama, where she became a close friend of soon-to-be-famous writer Truman Capote. She attended Huntingdon College in Montgomery (1944–45), and then studied law at the University of Alabama (1945–49). While attending college, she wrote for campus literary magazines: Huntress at Huntingdon and the humor magazine Rammer Jammer at the University of Alabama. At both colleges, she wrote short stories and other works about racial injustice, a rarely mentioned topic on such campuses at the time. In 1950, Lee moved to New York City, where she worked as a reservation clerk for British Overseas Airways Corporation; there, she began writing a collection of essays and short stories about people in Monroeville. Hoping to be published, Lee presented her writing in 1957 to a literary agent recommended by Capote. An editor at J. B. Lippincott, who bought the manuscript, advised her to quit the airline and concentrate on writing. Donations from friends allowed her to write uninterrupted for a year. After finishing the first draft and returning it to Lippincott, the manuscript, at that point titled Go Set a Watchman, fell into the hands of Therese von Hohoff Torrey, known professionally as Tay Hohoff. Hohoff was impressed: [T]he spark of the true writer flashed in every line, she would later recount in a corporate history of Lippincott, but as Hohoff saw it, the manuscript was by no means fit for publication. It was, as she described it, more a series of anecdotes than a fully conceived novel. During the following two and a half years, she led Lee from one draft to the next until the book finally achieved its finished form. After the Watchman title was rejected, it was re-titled Atticus but Lee renamed it To Kill a Mockingbird to reflect that the story went beyond a character portrait. The book was published on July 11, 1960. The editorial team at Lippincott warned Lee that she would probably sell only several thousand copies. In 1964, Lee recalled her hopes for the book when she said, I never expected any sort of success with 'Mockingbird.' ... I was hoping for a quick and merciful death at the hands of the reviewers but, at the same time, I sort of hoped someone would like it enough to give me encouragement. Public encouragement. I hoped for a little, as I said, but I got rather a whole lot, and in some ways this was just about as frightening as the quick, merciful death I'd expected. Instead of a quick and merciful death, Reader's Digest Condensed Books chose the book for reprinting in part, which gave it a wide readership immediately. Since the original publication, the book has never been out of print. Plot summary See also: List of To Kill a Mockingbird characters The story, told by Jean Louise Finch, takes place during three years (1933–35) of the Great Depression in the fictional town of Maycomb, Alabama, the seat of Maycomb County. Nicknamed Scout, the narrator, who is six years old at the beginning of the book, lives with her older brother Jeremy, nicknamed Jem, and their widowed father Atticus, a middle-aged lawyer. They also have a black cook, Calpurnia, who has been with the family for many years and helps Atticus raise the two children. Jem and Scout befriend a boy named Dill, who visits Maycomb to stay with his aunt each summer. The three children are terrified, yet fascinated, by their neighbor, the reclusive Arthur Boo Radley. The adults of Maycomb are hesitant to talk about Boo, and many of them have not seen him for many years. The children feed one another's imagination with rumors about his appearance and reasons for remaining hidden, and they fantasize about how to get him out of his house. After two summers of friendship with Dill, Scout and Jem find that someone is leaving them small gifts in a tree outside the Radley place. Several times the mysterious Boo makes gestures of affection to the children, but, to their disappointment, he never appears in person. Judge Taylor appoints Atticus to defend Tom Robinson, a black man who has been accused of raping a young white woman, Mayella Ewell. Although many of Maycomb's citizens disapprove, Atticus agrees to defend Tom to the best of his ability. Other children taunt Jem and Scout for Atticus's actions, calling him a nigger-lover. Scout is tempted to stand up for her father's honor by fighting, even though he has told her not to. One night, Atticus faces a group of men intent on lynching Tom. Scout, Jem, and Dill unexpectedly show up, and Scout inadvertently breaks the mob mentality by recognizing and talking to a classmate's father, causing the would-be lynchers to disperse. Atticus does not want Jem and Scout to be present at Tom Robinson's trial. No seat is available on the main floor, but the Rev. Sykes, the pastor of Calpurnia's church, invites Jem, Scout and Dill to watch from the colored balcony. Atticus establishes that Mayella Ewell and her father, Bob, are lying. It is revealed that Mayella made sexual advances toward Tom, resulting in her being beaten by her father. The townspeople refer to the Ewells as white trash who are not to be trusted, but the jury convicts Tom regardless. Jem's faith in justice is badly shaken. Atticus is hopeful that he can get the verdict overturned, but Tom is shot and killed while trying to escape from prison. Despite Tom's conviction, Bob Ewell is humiliated by the events of the trial. Atticus explains that he destroyed Ewell's last shred of credibility. Ewell vows revenge, spitting in Atticus' face, trying to break into the judge's house and menacing Tom Robinson's widow. Finally, he attacks Jem and Scout while they are walking home on a dark night after a school pageant. Jem suffers a broken arm and is knocked unconscious in the struggle, but amid the confusion, someone comes to the children's rescue. The mysterious man carries Jem home, where Scout realizes that he is Boo Radley. Sheriff Tate arrives and discovers Ewell dead from a knife wound. Atticus believes that Jem was responsible, but Tate is certain it was Boo. The sheriff tells Atticus that, to protect Boo's privacy, he will report that Ewell simply fell on his own knife during the attack. Boo asks Scout to walk him home. After she says goodbye to him at his front door, he disappears, never to be seen again by Scout. While standing on the Radley porch, Scout imagines life from Boo's perspective.\"\n",
        "#paragraph =\"The creator of ChatGPT, OpenAI, is teaming up with another US tech giant, a Japanese investment firm and an Emirati sovereign wealth fund to build $500bn (£405bn) of artificial intelligence (AI) infrastructure in the United States.The new company, called The Stargate Project, was announced at the White House by President Donald Trump who billed it the largest AI infrastructure project by far in history and said it would help keep the future of technology in the US.But Elon Musk - both a top adviser to Trump and rival to OpenAI CEO Sam Altman - on Wednesday said the venture does not actually have the money it has pledged to invest. Investment in AI is currently exploding, driving demand for new data centres while also raising concerns about the huge amounts of water and power the facilities require. The venture is a partnership between OpenAI, Oracle, Japan's Softbank - led by Masayoshi Son - and MGX, a tech investment arm of the United Arab Emirates government. The companies said the new venture, which was in the works before Trump took office, had $100bn in funding available immediately, with the rest to come over four years, creating an estimated 100,000 jobs. Commenting on a post on X where OpenAI detailed the plans, Musk, who owns the platform, wrote They don't actually have the money. SoftBank has well under $10B secured. I have that on good authority, he added. Musk, however, did not provide any details or substantiation for how he had arrived at the much smaller amount. Altman then replied: Wrong, as you surely know. Want to come visit the first site already under way? Altman added. This is great for the country. I realize what is great for the country isn't always what's optimal for your companies, but in your new role I hope you'll mostly put US first. Musk is spearheading Trump's government efficiency efforts and will closely advise Trump on spending. He, though, has also been feuding with Altman since leaving OpenAI's board in 2018 and launching his own AI start-up. A source close to Stargate said it was not clear where Musk had gotten his information and that the company was well-positioned to deploy $100 bn. Stargate's first data centre is under construction in Texas, according to Oracle's chief technology officer, Larry Ellison, and more will be built in other US locations. I think this will be the most important project of this era, said Altman at Trump's Tuesday announcement, standing alongside the President at the White House. We wouldn't be able to do this without you, Mr President, he added, even though the project was underway before Trump won November's election. 'Most important project of this era' The US is already the world leader in AI investment, vastly outspending any other country, and its big tech companies have been making major investments into data centres in the last year. Microsoft, one of the OpenAI's major backers, said earlier this month it was on track to invest $80bn to build out AI-focused data centres this year. It is also involved in a $100bn venture that includes BlackRock and MGX and is focused on making AI data centre investments. Amazon has been pouring money into the centres at a similar scale, announcing two projects worth about $10bn each in just the last two months. In a report last year, McKinsey said that global demand for data centre capacity would more than triple by 2030, growing between 19% and 27% annually by 2030. For developers to meet that demand, the consultancy estimated that at least twice the capacity would have to be built by 2030 as has been constructed since 2000. But analysts have warned that the process is likely to be bogged down by issues such as power and land constraints and permitting. Trump, who has claimed credit for fostering business investment, promised he would intervene to help the industry. I'm going to help a lot through emergency declarations because we have an emergency, he said, stressing the importance of keeping AI in the US. Trump said his government would make it possible for them to get that production done very easily. What is AI, how does it work and what can it be used for? Mushrooming demand OpenAI has long called for more investment into data centres for AI. The Information, a technology news website, first reported on the Stargate project in March last year. Other technology partners include British chipmaker Arm, US chipmaker Nvidia and Microsoft, which already has a partnership with OpenAI. Along with Musk's scepticism about funding for the specific project, there are growing concerns generally about the data centres taxing energy supplies and questions about the role of foreign investors. In one of his final acts in the White House, former President Joe Biden put forward rules that would restrict exports of AI-related chips to dozens of countries around the world, saying the move would help the US control the industry. He also issued orders related to the development of data centres on government land, which spotlighted a role for clean energy in powering the centres.\"\n",
        "\n",
        "#Option 2 (Input from file)\n",
        "\"\"\"\n",
        "file_path = \"/content/Input.txt\"\n",
        "with open(file_path, 'r') as file:\n",
        "  paragraph = file.read()\n",
        "\"\"\"\n",
        "\n",
        "import re\n",
        "\n",
        "sentences = re.split(r'(?<=[.!?\\n])', paragraph)\n",
        "\n",
        "# Process each sentence\n",
        "for sentence in sentences:\n",
        "    sentence = sentence.strip()  # Remove leading/trailing whitespace\n",
        "    if sentence:  # Skip empty sentences\n",
        "        classify_and_append(sentence)\n",
        "\n",
        "\n",
        "print(f\"Short Texts (1-2 words): {len(short_texts)} lines\")\n",
        "print(f\"Medium-Short Texts (5-7 words): {len(medium_short_texts)} lines\")\n",
        "print(f\"Medium Texts (10-15 words): {len(medium_texts)} lines\")\n",
        "print(f\"Long Texts (20+ words): {len(long_texts)} lines\")"
      ],
      "metadata": {
        "colab": {
          "base_uri": "https://localhost:8080/"
        },
        "id": "AaSrHxqMaCQk",
        "outputId": "13f88deb-a966-4251-cc70-551090409afd"
      },
      "execution_count": null,
      "outputs": [
        {
          "output_type": "stream",
          "name": "stdout",
          "text": [
            "Short Texts (1-2 words): 19 lines\n",
            "Medium-Short Texts (5-7 words): 200 lines\n",
            "Medium Texts (10-15 words): 24 lines\n",
            "Long Texts (20+ words): 61 lines\n"
          ]
        }
      ]
    },
    {
      "cell_type": "code",
      "source": [
        "long_texts"
      ],
      "metadata": {
        "colab": {
          "base_uri": "https://localhost:8080/"
        },
        "id": "q1XzWlyjaR6R",
        "outputId": "0e7a0dea-4589-41b1-e11e-6ab27ea4994a"
      },
      "execution_count": null,
      "outputs": [
        {
          "output_type": "execute_result",
          "data": {
            "text/plain": [
              "['To Kill a Mockingbird won the Pulitzer Prize a year after its release, and it has become a classic of modern American literature.',\n",
              " \"The plot and characters are loosely based on Lee's observations of her family, her neighbors and an event that occurred near her hometown of Monroeville, Alabama, in 1936, when she was ten.\",\n",
              " 'Despite dealing with the serious issues of rape and racial inequality, the novel is renowned for its warmth and humor.',\n",
              " \"Atticus Finch, the narrator's father, has served as a moral hero for many readers and as a model of integrity for lawyers.\",\n",
              " 'The historian Joseph Crespino explains, In the twentieth century, To Kill a Mockingbird is probably the most widely read book dealing with race in America, and its main character, Atticus Finch, the most enduring fictional image of racial heroism.',\n",
              " 'As a Southern Gothic novel and Bildungsroman, the primary themes of To Kill a Mockingbird involve racial injustice and the destruction of innocence.',\n",
              " 'Despite its themes, To Kill a Mockingbird has been subject to campaigns for removal from public classrooms, often challenged for its use of racial epithets.',\n",
              " 'In 2006, British librarians ranked the book ahead of the Bible as one every adult should read before they die.',\n",
              " 'Author Mary McDonough Murphy, who collected individual impressions of To Kill a Mockingbird by several authors and public figures, calls the book an astonishing phenomenon.',\n",
              " 'It was adapted into an Academy Award-winning film in 1962 by director Robert Mulligan, with a screenplay by Horton Foote.',\n",
              " \"To Kill a Mockingbird was Lee's only published book until Go Set a Watchman, an earlier draft of To Kill a Mockingbird, was published on July 14, 2015.\",\n",
              " 'Biographical background and publication Born in 1926, Harper Lee grew up in the Southern town of Monroeville, Alabama, where she became a close friend of soon-to-be-famous writer Truman Capote.',\n",
              " 'While attending college, she wrote for campus literary magazines: Huntress at Huntingdon and the humor magazine Rammer Jammer at the University of Alabama.',\n",
              " 'At both colleges, she wrote short stories and other works about racial injustice, a rarely mentioned topic on such campuses at the time.',\n",
              " 'In 1950, Lee moved to New York City, where she worked as a reservation clerk for British Overseas Airways Corporation; there, she began writing a collection of essays and short stories about people in Monroeville.',\n",
              " 'After finishing the first draft and returning it to Lippincott, the manuscript, at that point titled Go Set a Watchman, fell into the hands of Therese von Hohoff Torrey, known professionally as Tay Hohoff.',\n",
              " 'Hohoff was impressed: [T]he spark of the true writer flashed in every line, she would later recount in a corporate history of Lippincott, but as Hohoff saw it, the manuscript was by no means fit for publication.',\n",
              " 'During the following two and a half years, she led Lee from one draft to the next until the book finally achieved its finished form.',\n",
              " 'After the Watchman title was rejected, it was re-titled Atticus but Lee renamed it To Kill a Mockingbird to reflect that the story went beyond a character portrait.',\n",
              " \"In 1964, Lee recalled her hopes for the book when she said, I never expected any sort of success with 'Mockingbird.\",\n",
              " 'I was hoping for a quick and merciful death at the hands of the reviewers but, at the same time, I sort of hoped someone would like it enough to give me encouragement.',\n",
              " \"I hoped for a little, as I said, but I got rather a whole lot, and in some ways this was just about as frightening as the quick, merciful death I'd expected.\",\n",
              " \"Instead of a quick and merciful death, Reader's Digest Condensed Books chose the book for reprinting in part, which gave it a wide readership immediately.\",\n",
              " 'Plot summary See also: List of To Kill a Mockingbird characters The story, told by Jean Louise Finch, takes place during three years (1933–35) of the Great Depression in the fictional town of Maycomb, Alabama, the seat of Maycomb County.',\n",
              " 'Nicknamed Scout, the narrator, who is six years old at the beginning of the book, lives with her older brother Jeremy, nicknamed Jem, and their widowed father Atticus, a middle-aged lawyer.',\n",
              " 'They also have a black cook, Calpurnia, who has been with the family for many years and helps Atticus raise the two children.',\n",
              " 'The adults of Maycomb are hesitant to talk about Boo, and many of them have not seen him for many years.',\n",
              " \"The children feed one another's imagination with rumors about his appearance and reasons for remaining hidden, and they fantasize about how to get him out of his house.\",\n",
              " 'After two summers of friendship with Dill, Scout and Jem find that someone is leaving them small gifts in a tree outside the Radley place.',\n",
              " 'Several times the mysterious Boo makes gestures of affection to the children, but, to their disappointment, he never appears in person.',\n",
              " 'Judge Taylor appoints Atticus to defend Tom Robinson, a black man who has been accused of raping a young white woman, Mayella Ewell.',\n",
              " \"Scout is tempted to stand up for her father's honor by fighting, even though he has told her not to.\",\n",
              " \"Scout, Jem, and Dill unexpectedly show up, and Scout inadvertently breaks the mob mentality by recognizing and talking to a classmate's father, causing the would-be lynchers to disperse.\",\n",
              " 'The townspeople refer to the Ewells as white trash who are not to be trusted, but the jury convicts Tom regardless.',\n",
              " 'Atticus is hopeful that he can get the verdict overturned, but Tom is shot and killed while trying to escape from prison.',\n",
              " \"Jem suffers a broken arm and is knocked unconscious in the struggle, but amid the confusion, someone comes to the children's rescue.\",\n",
              " \"The sheriff tells Atticus that, to protect Boo's privacy, he will report that Ewell simply fell on his own knife during the attack.\",\n",
              " 'The creator of ChatGPT, OpenAI, is teaming up with another US tech giant, a Japanese investment firm and an Emirati sovereign wealth fund to build $500bn (£405bn) of artificial intelligence (AI) infrastructure in the United States.',\n",
              " 'The new company, called The Stargate Project, was announced at the White House by President Donald Trump who billed it the largest AI infrastructure project by far in history and said it would help keep the future of technology in the US.',\n",
              " 'But Elon Musk - both a top adviser to Trump and rival to OpenAI CEO Sam Altman - on Wednesday said the venture does not actually have the money it has pledged to invest.',\n",
              " 'Investment in AI is currently exploding, driving demand for new data centres while also raising concerns about the huge amounts of water and power the facilities require.',\n",
              " \"The venture is a partnership between OpenAI, Oracle, Japan's Softbank - led by Masayoshi Son - and MGX, a tech investment arm of the United Arab Emirates government.\",\n",
              " 'The companies said the new venture, which was in the works before Trump took office, had $100bn in funding available immediately, with the rest to come over four years, creating an estimated 100,000 jobs.',\n",
              " \"Commenting on a post on X where OpenAI detailed the plans, Musk, who owns the platform, wrote They don't actually have the money.\",\n",
              " \"I realize what is great for the country isn't always what's optimal for your companies, but in your new role I hope you'll mostly put US first.\",\n",
              " \"He, though, has also been feuding with Altman since leaving OpenAI's board in 2018 and launching his own AI start-up.\",\n",
              " 'A source close to Stargate said it was not clear where Musk had gotten his information and that the company was well-positioned to deploy $100 bn.',\n",
              " \"Stargate's first data centre is under construction in Texas, according to Oracle's chief technology officer, Larry Ellison, and more will be built in other US locations.\",\n",
              " \"I think this will be the most important project of this era, said Altman at Trump's Tuesday announcement, standing alongside the President at the White House.\",\n",
              " \"We wouldn't be able to do this without you, Mr President, he added, even though the project was underway before Trump won November's election.\",\n",
              " \"'Most important project of this era' The US is already the world leader in AI investment, vastly outspending any other country, and its big tech companies have been making major investments into data centres in the last year.\",\n",
              " \"Microsoft, one of the OpenAI's major backers, said earlier this month it was on track to invest $80bn to build out AI-focused data centres this year.\",\n",
              " 'It is also involved in a $100bn venture that includes BlackRock and MGX and is focused on making AI data centre investments.',\n",
              " 'Amazon has been pouring money into the centres at a similar scale, announcing two projects worth about $10bn each in just the last two months.',\n",
              " 'In a report last year, McKinsey said that global demand for data centre capacity would more than triple by 2030, growing between 19% and 27% annually by 2030.',\n",
              " 'For developers to meet that demand, the consultancy estimated that at least twice the capacity would have to be built by 2030 as has been constructed since 2000.',\n",
              " 'But analysts have warned that the process is likely to be bogged down by issues such as power and land constraints and permitting.',\n",
              " \"I'm going to help a lot through emergency declarations because we have an emergency, he said, stressing the importance of keeping AI in the US.\",\n",
              " \"Along with Musk's scepticism about funding for the specific project, there are growing concerns generally about the data centres taxing energy supplies and questions about the role of foreign investors.\",\n",
              " 'In one of his final acts in the White House, former President Joe Biden put forward rules that would restrict exports of AI-related chips to dozens of countries around the world, saying the move would help the US control the industry.',\n",
              " 'He also issued orders related to the development of data centres on government land, which spotlighted a role for clean energy in powering the centres.']"
            ]
          },
          "metadata": {},
          "execution_count": 10
        }
      ]
    },
    {
      "cell_type": "code",
      "source": [
        "medium_short_texts"
      ],
      "metadata": {
        "colab": {
          "base_uri": "https://localhost:8080/"
        },
        "id": "ZHZ3lKc8dEoO",
        "outputId": "2b1127ac-e9a0-458f-a7b7-28f04097c27e"
      },
      "execution_count": null,
      "outputs": [
        {
          "output_type": "execute_result",
          "data": {
            "text/plain": [
              "['Hi, nice to meet you.',\n",
              " 'Do you have any children?',\n",
              " 'Yes, I have two kids.',\n",
              " 'My day was great, thank you.',\n",
              " 'I wake up at 7 a.',\n",
              " 'I drive to the office.',\n",
              " 'I start work at 9 a.',\n",
              " 'I have a meeting at 10 a.',\n",
              " 'I take a lunch break.',\n",
              " 'I eat lunch at 1 p.',\n",
              " 'I finish work at 5 p.',\n",
              " 'I go to the gym.',\n",
              " 'I exercise for an hour.',\n",
              " 'I go to bed at 10 p.',\n",
              " 'Where is the nearest grocery store?',\n",
              " 'I need to buy some milk.',\n",
              " 'How much does this cost?',\n",
              " 'Do you accept credit cards?',\n",
              " 'Can I have a receipt, please?',\n",
              " 'I am looking for a gift.',\n",
              " 'What size do you wear?',\n",
              " 'Can I try this on?',\n",
              " 'Is there a discount on this item?',\n",
              " 'Can you help me find this product?',\n",
              " 'How much is this in total?',\n",
              " 'Do you have any offers today?',\n",
              " 'Where is the fitting room?',\n",
              " 'I need a shopping cart.',\n",
              " 'Do you sell organic products?',\n",
              " 'Can I get this delivered?',\n",
              " 'What time do you close?',\n",
              " 'I would like to return this item.',\n",
              " 'Is this item on sale?',\n",
              " 'Can I see the menu, please?',\n",
              " 'I would like to order.',\n",
              " 'I will have the chicken, please.',\n",
              " 'Can I get a glass of water?',\n",
              " 'I would like a coffee, please.',\n",
              " 'Can we get the check, please?',\n",
              " 'Is there a vegetarian option?',\n",
              " 'Can you recommend a dessert?',\n",
              " 'I have a food allergy.',\n",
              " 'Can you make it less spicy?',\n",
              " 'I would like a takeout, please.',\n",
              " 'Is there a service charge?',\n",
              " 'Can I pay by card?',\n",
              " 'Do you have any vegan options?',\n",
              " 'What is the soup of the day?',\n",
              " 'Can I have some extra napkins?',\n",
              " 'The food was delicious, thank you.',\n",
              " 'English Sentences on Asking for Directions',\n",
              " 'Excuse me, where is the restroom?',\n",
              " 'Can you show me on the map?',\n",
              " 'Is it far from here?',\n",
              " 'Which bus should I take?',\n",
              " 'Where is the nearest ATM?',\n",
              " 'Is there a pharmacy nearby?',\n",
              " 'How far is the mall from here?',\n",
              " 'Is it within walking distance?',\n",
              " 'Where can I find a taxi?',\n",
              " 'Can you help me find this address?',\n",
              " 'What is the nearest landmark?',\n",
              " 'Is there a subway station nearby?',\n",
              " 'Is there a parking lot around here?',\n",
              " 'At Work – English Sentences',\n",
              " 'I have a meeting at 9 a.',\n",
              " 'Can you send me the report?',\n",
              " 'I need to finish this project.',\n",
              " 'Can you help me with this task?',\n",
              " 'Can we discuss this later?',\n",
              " 'I will send you an email.',\n",
              " 'Can you print this for me?',\n",
              " 'I need to make some copies.',\n",
              " 'I need to call a client.',\n",
              " 'Can you join the conference call?',\n",
              " 'Let’s have a team meeting.',\n",
              " 'Can you cover for me?',\n",
              " 'I need a ticket to New York.',\n",
              " 'What time is the next train?',\n",
              " 'How much is a one-way ticket?',\n",
              " 'Where is the boarding gate?',\n",
              " 'Can I have a window seat?',\n",
              " 'How long is the flight?',\n",
              " 'What time does the bus leave?',\n",
              " 'Where can I rent a car?',\n",
              " 'I need a map of the city.',\n",
              " 'Can you book a taxi for me?',\n",
              " 'Where is the baggage claim area?',\n",
              " 'What is the local time?',\n",
              " 'Can you recommend a good restaurant?',\n",
              " 'Is there free Wi-Fi here?',\n",
              " 'Where can I exchange money?',\n",
              " 'What is the check-in time?',\n",
              " 'Do you have a city tour?',\n",
              " 'Can I get a late check-out?',\n",
              " 'Is there a hospital nearby?',\n",
              " 'Can you help me find my way?',\n",
              " 'My phone is not working.',\n",
              " 'Is this the emergency room?',\n",
              " 'Where is the nearest pharmacy?',\n",
              " 'There has been an accident.',\n",
              " 'Can you call an ambulance?',\n",
              " 'I need to see a dentist.',\n",
              " 'Is there a fire extinguisher?',\n",
              " 'I need to contact my family.',\n",
              " 'Can you help me with first aid?',\n",
              " 'I need to report a crime.',\n",
              " 'Making Plans – English Sentences',\n",
              " 'Let’s go to the movies.',\n",
              " 'Do you want to hang out?',\n",
              " 'Let’s meet at the park.',\n",
              " 'Can you come over tomorrow?',\n",
              " 'Let’s go for a walk.',\n",
              " 'Are you free this evening?',\n",
              " 'Let’s go to the beach.',\n",
              " 'Do you want to play a game?',\n",
              " 'Let’s go to the museum.',\n",
              " 'Can we visit the zoo?',\n",
              " 'Do you want to go hiking?',\n",
              " 'Can we watch a movie?',\n",
              " 'Let’s go out for coffee.',\n",
              " 'Do you want to join us?',\n",
              " 'What is your favorite color?',\n",
              " 'How do you spell that?',\n",
              " 'It’s next to the bank.',\n",
              " 'Go to the end of the road.',\n",
              " 'It’s near the bus stop.',\n",
              " 'It’s in front of the store.',\n",
              " 'I think this is great.',\n",
              " 'I believe you are right.',\n",
              " 'In my opinion, it’s okay.',\n",
              " 'I feel this is important.',\n",
              " 'I think we should try.',\n",
              " 'I am not sure about this.',\n",
              " 'I think this is a bad idea.',\n",
              " 'I feel good about this.',\n",
              " 'I think we can do better.',\n",
              " 'I am not a fan of this.',\n",
              " 'Could you please pass the salt?',\n",
              " 'May I borrow your pen?',\n",
              " 'Can I have a glass of water?',\n",
              " 'Can you turn on the light?',\n",
              " 'Could you close the door?',\n",
              " 'Please lend me your book.',\n",
              " 'Can you show me the way?',\n",
              " 'May I ask a question?',\n",
              " 'Could you speak more slowly?',\n",
              " 'May I use your phone?',\n",
              " 'Could you help me with this?',\n",
              " 'Please tell me the time.',\n",
              " 'Can you give me a ride?',\n",
              " 'Could you explain this to me?',\n",
              " 'Please turn off the TV.',\n",
              " 'I am sorry for the inconvenience.',\n",
              " 'I am sorry I am late.',\n",
              " 'I am sorry for the mistake.',\n",
              " 'I didn’t mean to hurt you.',\n",
              " 'I am sorry for the confusion.',\n",
              " 'I apologize for any trouble.',\n",
              " 'I am sorry for the misunderstanding.',\n",
              " 'I am sorry for being rude.',\n",
              " 'I am sorry for the delay.',\n",
              " 'I didn’t mean to offend you.',\n",
              " 'You ought to see a doctor.',\n",
              " 'It’s a good idea to save money.',\n",
              " 'You should take a break.',\n",
              " 'I think you should go.',\n",
              " 'It’s better to be safe.',\n",
              " 'You ought to eat healthier.',\n",
              " 'I advise you to study hard.',\n",
              " 'You should get some rest.',\n",
              " 'You need to work on that.',\n",
              " 'It’s good to be prepared.',\n",
              " 'Try to be on time.',\n",
              " 'You ought to listen to her.',\n",
              " 'It’s best to be honest.',\n",
              " 'Expressing Gratitude – English Sentences',\n",
              " 'I am grateful for your help.',\n",
              " 'I can’t thank you enough.',\n",
              " 'I am thankful for your support.',\n",
              " 'Thank you for your time.',\n",
              " 'Thank you for being there.',\n",
              " 'Thank you for your generosity.',\n",
              " 'I am thankful for your assistance.',\n",
              " 'Thank you for the information.',\n",
              " 'You did a good job.',\n",
              " 'You have a beautiful smile.',\n",
              " 'You are a great friend.',\n",
              " 'You have a nice voice.',\n",
              " 'Making Small Talk – English Sentences',\n",
              " 'How is the weather today?',\n",
              " 'Did you watch the game last night?',\n",
              " 'What did you do over the weekend?',\n",
              " 'Have you seen any good movies lately?',\n",
              " 'Do you have any hobbies?',\n",
              " 'What kind of music do you like?',\n",
              " 'What are your plans for the weekend?',\n",
              " 'Do you like reading books?',\n",
              " 'Have you tried the new restaurant?',\n",
              " 'How do you spend your free time?']"
            ]
          },
          "metadata": {},
          "execution_count": 11
        }
      ]
    },
    {
      "cell_type": "code",
      "source": [
        "medium_texts"
      ],
      "metadata": {
        "colab": {
          "base_uri": "https://localhost:8080/"
        },
        "id": "WCyhcMnIeSFs",
        "outputId": "3d9534c2-b13e-4b6a-e750-023fc2d00f26"
      },
      "execution_count": null,
      "outputs": [
        {
          "output_type": "execute_result",
          "data": {
            "text/plain": [
              "['What is the best way to get to the airport?',\n",
              " 'To Kill a Mockingbird is a novel by the American author Harper Lee.',\n",
              " 'It was published in July 1960 and became instantly successful.',\n",
              " 'In the United States, it is widely read in high schools and middle schools.',\n",
              " \"Lee continued to respond to her work's impact until her death in February 2016.\",\n",
              " 'Lippincott, who bought the manuscript, advised her to quit the airline and concentrate on writing.',\n",
              " 'Donations from friends allowed her to write uninterrupted for a year.',\n",
              " 'Since the original publication, the book has never been out of print.',\n",
              " 'The three children are terrified, yet fascinated, by their neighbor, the reclusive Arthur Boo Radley.',\n",
              " \"Other children taunt Jem and Scout for Atticus's actions, calling him a nigger-lover.\",\n",
              " 'One night, Atticus faces a group of men intent on lynching Tom.',\n",
              " \"Atticus does not want Jem and Scout to be present at Tom Robinson's trial.\",\n",
              " 'No seat is available on the main floor, but the Rev.',\n",
              " 'Atticus establishes that Mayella Ewell and her father, Bob, are lying.',\n",
              " \"Despite Tom's conviction, Bob Ewell is humiliated by the events of the trial.\",\n",
              " \"Atticus explains that he destroyed Ewell's last shred of credibility.\",\n",
              " 'The mysterious man carries Jem home, where Scout realizes that he is Boo Radley.',\n",
              " 'Sheriff Tate arrives and discovers Ewell dead from a knife wound.',\n",
              " 'Atticus believes that Jem was responsible, but Tate is certain it was Boo.',\n",
              " \"While standing on the Radley porch, Scout imagines life from Boo's perspective.\",\n",
              " 'Want to come visit the first site already under way?',\n",
              " \"Musk is spearheading Trump's government efficiency efforts and will closely advise Trump on spending.\",\n",
              " 'What is AI, how does it work and what can it be used for?',\n",
              " 'Mushrooming demand OpenAI has long called for more investment into data centres for AI.']"
            ]
          },
          "metadata": {},
          "execution_count": 12
        }
      ]
    },
    {
      "cell_type": "code",
      "source": [
        "short_texts"
      ],
      "metadata": {
        "colab": {
          "base_uri": "https://localhost:8080/"
        },
        "id": "0mO53BIMeU6k",
        "outputId": "344bff3b-aea7-4c67-c7df-0b49768ed08e"
      },
      "execution_count": null,
      "outputs": [
        {
          "output_type": "execute_result",
          "data": {
            "text/plain": [
              "['Good morning!',\n",
              " 'Good afternoon!',\n",
              " 'Good evening!',\n",
              " 'm.',\n",
              " 'Turn left.',\n",
              " 'Turn right.',\n",
              " 'Go straight.',\n",
              " 'My apologies.',\n",
              " 'It’s snowing.',\n",
              " 'It’s humid.',\n",
              " 'It’s foggy.',\n",
              " 'It’s drizzling.',\n",
              " 'It’s freezing.',\n",
              " 'It’s stormy.',\n",
              " 'It’s overcast.',\n",
              " 'It’s breezy.',\n",
              " 'B.',\n",
              " 'Public encouragement.',\n",
              " 'Altman added.']"
            ]
          },
          "metadata": {},
          "execution_count": 13
        }
      ]
    },
    {
      "cell_type": "code",
      "source": [],
      "metadata": {
        "id": "j4_Zb6J7eXm5"
      },
      "execution_count": null,
      "outputs": []
    },
    {
      "cell_type": "code",
      "source": [],
      "metadata": {
        "id": "EOMLZe3_vN77"
      },
      "execution_count": null,
      "outputs": []
    }
  ]
}